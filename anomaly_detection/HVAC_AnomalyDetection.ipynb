{
 "cells": [
  {
   "cell_type": "code",
   "execution_count": 1,
   "id": "pleased-chick",
   "metadata": {},
   "outputs": [],
   "source": [
    "import pandas as pd\n",
    "import numpy as np\n",
    "import seaborn as sns\n",
    "import matplotlib.pyplot as plt\n",
    "\n",
    "from common import auxiliary\n",
    "from db import hvacDBMapping\n",
    "\n",
    "from sklearn.ensemble import IsolationForest\n",
    "from sklearn.model_selection import train_test_split\n",
    "from sklearn.decomposition import PCA\n",
    "from sklearn.preprocessing import StandardScaler\n",
    "from mpl_toolkits.mplot3d import Axes3D\n",
    "\n",
    "from IPython.display import HTML"
   ]
  },
  {
   "cell_type": "code",
   "execution_count": 2,
   "id": "dying-entity",
   "metadata": {},
   "outputs": [],
   "source": [
    "thermafuser_df = pd.read_csv('thermafuser_readings.csv', low_memory=False, index_col=False)\n",
    "thermafuser_df = thermafuser_df.drop('Unnamed: 0', axis=1)\n",
    "thermafuser_df = thermafuser_df.loc[thermafuser_df['_thermafuserId'] == 1]\n",
    "thermafuser_df.reset_index(inplace=True, drop=True)"
   ]
  },
  {
   "cell_type": "code",
   "execution_count": 3,
   "id": "still-island",
   "metadata": {},
   "outputs": [],
   "source": [
    "thermafuser_df.shape\n",
    "X_train, X_test = train_test_split(thermafuser_df, test_size=0.1)\n",
    "X_test.shape\n",
    "X_test.to_csv('thermafuser_test.csv')"
   ]
  },
  {
   "cell_type": "code",
   "execution_count": 4,
   "id": "cosmetic-startup",
   "metadata": {},
   "outputs": [
    {
     "data": {
      "text/html": [
       "<div>\n",
       "<style scoped>\n",
       "    .dataframe tbody tr th:only-of-type {\n",
       "        vertical-align: middle;\n",
       "    }\n",
       "\n",
       "    .dataframe tbody tr th {\n",
       "        vertical-align: top;\n",
       "    }\n",
       "\n",
       "    .dataframe thead th {\n",
       "        text-align: right;\n",
       "    }\n",
       "</style>\n",
       "<table border=\"1\" class=\"dataframe\">\n",
       "  <thead>\n",
       "    <tr style=\"text-align: right;\">\n",
       "      <th></th>\n",
       "      <th>_thermafuserId</th>\n",
       "      <th>_roomOccupied</th>\n",
       "      <th>_supplyAir</th>\n",
       "      <th>_timestamp</th>\n",
       "      <th>_occupiedCoolingSetpoint</th>\n",
       "      <th>_terminalLoad</th>\n",
       "      <th>_zoneTemperature</th>\n",
       "      <th>_airflowFeedback</th>\n",
       "      <th>_occupiedHeatingSetpoint</th>\n",
       "    </tr>\n",
       "  </thead>\n",
       "  <tbody>\n",
       "    <tr>\n",
       "      <th>0</th>\n",
       "      <td>1</td>\n",
       "      <td>True</td>\n",
       "      <td>75.199997</td>\n",
       "      <td>2018-07-11 14:15:00</td>\n",
       "      <td>76.0</td>\n",
       "      <td>NaN</td>\n",
       "      <td>74.699997</td>\n",
       "      <td>63.0</td>\n",
       "      <td>70.0</td>\n",
       "    </tr>\n",
       "    <tr>\n",
       "      <th>1</th>\n",
       "      <td>1</td>\n",
       "      <td>True</td>\n",
       "      <td>76.099998</td>\n",
       "      <td>2018-07-11 14:20:01</td>\n",
       "      <td>76.0</td>\n",
       "      <td>NaN</td>\n",
       "      <td>74.300003</td>\n",
       "      <td>61.0</td>\n",
       "      <td>70.0</td>\n",
       "    </tr>\n",
       "    <tr>\n",
       "      <th>2</th>\n",
       "      <td>1</td>\n",
       "      <td>True</td>\n",
       "      <td>75.900002</td>\n",
       "      <td>2018-07-11 14:25:01</td>\n",
       "      <td>76.0</td>\n",
       "      <td>NaN</td>\n",
       "      <td>74.900002</td>\n",
       "      <td>59.0</td>\n",
       "      <td>70.0</td>\n",
       "    </tr>\n",
       "    <tr>\n",
       "      <th>3</th>\n",
       "      <td>1</td>\n",
       "      <td>True</td>\n",
       "      <td>75.900002</td>\n",
       "      <td>2018-07-11 14:30:02</td>\n",
       "      <td>76.0</td>\n",
       "      <td>NaN</td>\n",
       "      <td>75.099998</td>\n",
       "      <td>76.0</td>\n",
       "      <td>70.0</td>\n",
       "    </tr>\n",
       "    <tr>\n",
       "      <th>4</th>\n",
       "      <td>1</td>\n",
       "      <td>True</td>\n",
       "      <td>75.699997</td>\n",
       "      <td>2018-07-11 14:35:04</td>\n",
       "      <td>76.0</td>\n",
       "      <td>NaN</td>\n",
       "      <td>75.599998</td>\n",
       "      <td>150.0</td>\n",
       "      <td>70.0</td>\n",
       "    </tr>\n",
       "  </tbody>\n",
       "</table>\n",
       "</div>"
      ],
      "text/plain": [
       "   _thermafuserId _roomOccupied  _supplyAir           _timestamp  \\\n",
       "0               1          True   75.199997  2018-07-11 14:15:00   \n",
       "1               1          True   76.099998  2018-07-11 14:20:01   \n",
       "2               1          True   75.900002  2018-07-11 14:25:01   \n",
       "3               1          True   75.900002  2018-07-11 14:30:02   \n",
       "4               1          True   75.699997  2018-07-11 14:35:04   \n",
       "\n",
       "   _occupiedCoolingSetpoint  _terminalLoad  _zoneTemperature  \\\n",
       "0                      76.0            NaN         74.699997   \n",
       "1                      76.0            NaN         74.300003   \n",
       "2                      76.0            NaN         74.900002   \n",
       "3                      76.0            NaN         75.099998   \n",
       "4                      76.0            NaN         75.599998   \n",
       "\n",
       "   _airflowFeedback  _occupiedHeatingSetpoint  \n",
       "0              63.0                      70.0  \n",
       "1              61.0                      70.0  \n",
       "2              59.0                      70.0  \n",
       "3              76.0                      70.0  \n",
       "4             150.0                      70.0  "
      ]
     },
     "execution_count": 4,
     "metadata": {},
     "output_type": "execute_result"
    }
   ],
   "source": [
    "thermafuser_df.head()"
   ]
  },
  {
   "cell_type": "code",
   "execution_count": 5,
   "id": "entire-bowling",
   "metadata": {},
   "outputs": [],
   "source": [
    "col_names = {'_roomOccupied':'RoomOccupied', '_supplyAir':'SupplyAir', \n",
    "             '_occupiedCoolingSetpoint':'OccupiedCoolingSetpoint', '_terminalLoad':'TerminalLoad', \n",
    "            '_zoneTemperature':'ZoneTemperature', '_airflowFeedback':'AirflowFeedback', \n",
    "            '_occupiedHeatingSetpoint':'OccupiedHeatingSetpoint', '_timestamp':'Timestamp'}\n",
    "\n",
    "thermafuser_df = thermafuser_df.drop('_thermafuserId', axis=1)\n",
    "thermafuser_df = thermafuser_df.rename(columns=col_names)"
   ]
  },
  {
   "cell_type": "code",
   "execution_count": 6,
   "id": "facial-lounge",
   "metadata": {},
   "outputs": [
    {
     "data": {
      "text/html": [
       "<div>\n",
       "<style scoped>\n",
       "    .dataframe tbody tr th:only-of-type {\n",
       "        vertical-align: middle;\n",
       "    }\n",
       "\n",
       "    .dataframe tbody tr th {\n",
       "        vertical-align: top;\n",
       "    }\n",
       "\n",
       "    .dataframe thead th {\n",
       "        text-align: right;\n",
       "    }\n",
       "</style>\n",
       "<table border=\"1\" class=\"dataframe\">\n",
       "  <thead>\n",
       "    <tr style=\"text-align: right;\">\n",
       "      <th></th>\n",
       "      <th>RoomOccupied</th>\n",
       "      <th>SupplyAir</th>\n",
       "      <th>Timestamp</th>\n",
       "      <th>OccupiedCoolingSetpoint</th>\n",
       "      <th>TerminalLoad</th>\n",
       "      <th>ZoneTemperature</th>\n",
       "      <th>AirflowFeedback</th>\n",
       "      <th>OccupiedHeatingSetpoint</th>\n",
       "    </tr>\n",
       "  </thead>\n",
       "  <tbody>\n",
       "    <tr>\n",
       "      <th>0</th>\n",
       "      <td>True</td>\n",
       "      <td>75.199997</td>\n",
       "      <td>2018-07-11 14:15:00</td>\n",
       "      <td>76.0</td>\n",
       "      <td>NaN</td>\n",
       "      <td>74.699997</td>\n",
       "      <td>63.0</td>\n",
       "      <td>70.0</td>\n",
       "    </tr>\n",
       "    <tr>\n",
       "      <th>1</th>\n",
       "      <td>True</td>\n",
       "      <td>76.099998</td>\n",
       "      <td>2018-07-11 14:20:01</td>\n",
       "      <td>76.0</td>\n",
       "      <td>NaN</td>\n",
       "      <td>74.300003</td>\n",
       "      <td>61.0</td>\n",
       "      <td>70.0</td>\n",
       "    </tr>\n",
       "    <tr>\n",
       "      <th>2</th>\n",
       "      <td>True</td>\n",
       "      <td>75.900002</td>\n",
       "      <td>2018-07-11 14:25:01</td>\n",
       "      <td>76.0</td>\n",
       "      <td>NaN</td>\n",
       "      <td>74.900002</td>\n",
       "      <td>59.0</td>\n",
       "      <td>70.0</td>\n",
       "    </tr>\n",
       "    <tr>\n",
       "      <th>3</th>\n",
       "      <td>True</td>\n",
       "      <td>75.900002</td>\n",
       "      <td>2018-07-11 14:30:02</td>\n",
       "      <td>76.0</td>\n",
       "      <td>NaN</td>\n",
       "      <td>75.099998</td>\n",
       "      <td>76.0</td>\n",
       "      <td>70.0</td>\n",
       "    </tr>\n",
       "    <tr>\n",
       "      <th>4</th>\n",
       "      <td>True</td>\n",
       "      <td>75.699997</td>\n",
       "      <td>2018-07-11 14:35:04</td>\n",
       "      <td>76.0</td>\n",
       "      <td>NaN</td>\n",
       "      <td>75.599998</td>\n",
       "      <td>150.0</td>\n",
       "      <td>70.0</td>\n",
       "    </tr>\n",
       "  </tbody>\n",
       "</table>\n",
       "</div>"
      ],
      "text/plain": [
       "  RoomOccupied  SupplyAir           Timestamp  OccupiedCoolingSetpoint  \\\n",
       "0         True  75.199997 2018-07-11 14:15:00                     76.0   \n",
       "1         True  76.099998 2018-07-11 14:20:01                     76.0   \n",
       "2         True  75.900002 2018-07-11 14:25:01                     76.0   \n",
       "3         True  75.900002 2018-07-11 14:30:02                     76.0   \n",
       "4         True  75.699997 2018-07-11 14:35:04                     76.0   \n",
       "\n",
       "   TerminalLoad  ZoneTemperature  AirflowFeedback  OccupiedHeatingSetpoint  \n",
       "0           NaN        74.699997             63.0                     70.0  \n",
       "1           NaN        74.300003             61.0                     70.0  \n",
       "2           NaN        74.900002             59.0                     70.0  \n",
       "3           NaN        75.099998             76.0                     70.0  \n",
       "4           NaN        75.599998            150.0                     70.0  "
      ]
     },
     "execution_count": 6,
     "metadata": {},
     "output_type": "execute_result"
    }
   ],
   "source": [
    "thermafuser_df['Timestamp'] = pd.to_datetime(thermafuser_df['Timestamp'])\n",
    "thermafuser_df.head()"
   ]
  },
  {
   "cell_type": "code",
   "execution_count": 7,
   "id": "combined-rocket",
   "metadata": {},
   "outputs": [
    {
     "data": {
      "text/html": [
       "<div>\n",
       "<style scoped>\n",
       "    .dataframe tbody tr th:only-of-type {\n",
       "        vertical-align: middle;\n",
       "    }\n",
       "\n",
       "    .dataframe tbody tr th {\n",
       "        vertical-align: top;\n",
       "    }\n",
       "\n",
       "    .dataframe thead th {\n",
       "        text-align: right;\n",
       "    }\n",
       "</style>\n",
       "<table border=\"1\" class=\"dataframe\">\n",
       "  <thead>\n",
       "    <tr style=\"text-align: right;\">\n",
       "      <th></th>\n",
       "      <th>SupplyAir</th>\n",
       "      <th>OccupiedCoolingSetpoint</th>\n",
       "      <th>TerminalLoad</th>\n",
       "      <th>ZoneTemperature</th>\n",
       "      <th>AirflowFeedback</th>\n",
       "      <th>OccupiedHeatingSetpoint</th>\n",
       "    </tr>\n",
       "  </thead>\n",
       "  <tbody>\n",
       "    <tr>\n",
       "      <th>count</th>\n",
       "      <td>25330.000000</td>\n",
       "      <td>25330.000000</td>\n",
       "      <td>0.0</td>\n",
       "      <td>25330.000000</td>\n",
       "      <td>25330.000000</td>\n",
       "      <td>25330.000000</td>\n",
       "    </tr>\n",
       "    <tr>\n",
       "      <th>mean</th>\n",
       "      <td>71.928381</td>\n",
       "      <td>76.006553</td>\n",
       "      <td>NaN</td>\n",
       "      <td>73.956816</td>\n",
       "      <td>80.868693</td>\n",
       "      <td>69.993447</td>\n",
       "    </tr>\n",
       "    <tr>\n",
       "      <th>std</th>\n",
       "      <td>7.626211</td>\n",
       "      <td>0.091683</td>\n",
       "      <td>NaN</td>\n",
       "      <td>1.161022</td>\n",
       "      <td>25.631663</td>\n",
       "      <td>0.091683</td>\n",
       "    </tr>\n",
       "    <tr>\n",
       "      <th>min</th>\n",
       "      <td>0.000000</td>\n",
       "      <td>76.000000</td>\n",
       "      <td>NaN</td>\n",
       "      <td>71.199997</td>\n",
       "      <td>0.000000</td>\n",
       "      <td>68.000000</td>\n",
       "    </tr>\n",
       "    <tr>\n",
       "      <th>25%</th>\n",
       "      <td>71.699997</td>\n",
       "      <td>76.000000</td>\n",
       "      <td>NaN</td>\n",
       "      <td>73.099998</td>\n",
       "      <td>76.000000</td>\n",
       "      <td>70.000000</td>\n",
       "    </tr>\n",
       "    <tr>\n",
       "      <th>50%</th>\n",
       "      <td>72.199997</td>\n",
       "      <td>76.000000</td>\n",
       "      <td>NaN</td>\n",
       "      <td>73.800003</td>\n",
       "      <td>78.000000</td>\n",
       "      <td>70.000000</td>\n",
       "    </tr>\n",
       "    <tr>\n",
       "      <th>75%</th>\n",
       "      <td>73.300003</td>\n",
       "      <td>76.000000</td>\n",
       "      <td>NaN</td>\n",
       "      <td>74.900002</td>\n",
       "      <td>82.000000</td>\n",
       "      <td>70.000000</td>\n",
       "    </tr>\n",
       "    <tr>\n",
       "      <th>max</th>\n",
       "      <td>77.800003</td>\n",
       "      <td>78.000000</td>\n",
       "      <td>NaN</td>\n",
       "      <td>77.800003</td>\n",
       "      <td>294.000000</td>\n",
       "      <td>70.000000</td>\n",
       "    </tr>\n",
       "  </tbody>\n",
       "</table>\n",
       "</div>"
      ],
      "text/plain": [
       "          SupplyAir  OccupiedCoolingSetpoint  TerminalLoad  ZoneTemperature  \\\n",
       "count  25330.000000             25330.000000           0.0     25330.000000   \n",
       "mean      71.928381                76.006553           NaN        73.956816   \n",
       "std        7.626211                 0.091683           NaN         1.161022   \n",
       "min        0.000000                76.000000           NaN        71.199997   \n",
       "25%       71.699997                76.000000           NaN        73.099998   \n",
       "50%       72.199997                76.000000           NaN        73.800003   \n",
       "75%       73.300003                76.000000           NaN        74.900002   \n",
       "max       77.800003                78.000000           NaN        77.800003   \n",
       "\n",
       "       AirflowFeedback  OccupiedHeatingSetpoint  \n",
       "count     25330.000000             25330.000000  \n",
       "mean         80.868693                69.993447  \n",
       "std          25.631663                 0.091683  \n",
       "min           0.000000                68.000000  \n",
       "25%          76.000000                70.000000  \n",
       "50%          78.000000                70.000000  \n",
       "75%          82.000000                70.000000  \n",
       "max         294.000000                70.000000  "
      ]
     },
     "execution_count": 7,
     "metadata": {},
     "output_type": "execute_result"
    }
   ],
   "source": [
    "thermafuser_df.describe()"
   ]
  },
  {
   "cell_type": "code",
   "execution_count": 8,
   "id": "backed-admission",
   "metadata": {},
   "outputs": [
    {
     "data": {
      "text/html": [
       "<div>\n",
       "<style scoped>\n",
       "    .dataframe tbody tr th:only-of-type {\n",
       "        vertical-align: middle;\n",
       "    }\n",
       "\n",
       "    .dataframe tbody tr th {\n",
       "        vertical-align: top;\n",
       "    }\n",
       "\n",
       "    .dataframe thead th {\n",
       "        text-align: right;\n",
       "    }\n",
       "</style>\n",
       "<table border=\"1\" class=\"dataframe\">\n",
       "  <thead>\n",
       "    <tr style=\"text-align: right;\">\n",
       "      <th></th>\n",
       "      <th>RoomOccupied</th>\n",
       "      <th>SupplyAir</th>\n",
       "      <th>ZoneTemperature</th>\n",
       "      <th>AirflowFeedback</th>\n",
       "    </tr>\n",
       "  </thead>\n",
       "  <tbody>\n",
       "    <tr>\n",
       "      <th>count</th>\n",
       "      <td>25330.0</td>\n",
       "      <td>25330.000000</td>\n",
       "      <td>25330.000000</td>\n",
       "      <td>25330.000000</td>\n",
       "    </tr>\n",
       "    <tr>\n",
       "      <th>mean</th>\n",
       "      <td>1.0</td>\n",
       "      <td>71.928381</td>\n",
       "      <td>73.956816</td>\n",
       "      <td>80.868693</td>\n",
       "    </tr>\n",
       "    <tr>\n",
       "      <th>std</th>\n",
       "      <td>0.0</td>\n",
       "      <td>7.626211</td>\n",
       "      <td>1.161022</td>\n",
       "      <td>25.631663</td>\n",
       "    </tr>\n",
       "    <tr>\n",
       "      <th>min</th>\n",
       "      <td>1.0</td>\n",
       "      <td>0.000000</td>\n",
       "      <td>71.199997</td>\n",
       "      <td>0.000000</td>\n",
       "    </tr>\n",
       "    <tr>\n",
       "      <th>25%</th>\n",
       "      <td>1.0</td>\n",
       "      <td>71.699997</td>\n",
       "      <td>73.099998</td>\n",
       "      <td>76.000000</td>\n",
       "    </tr>\n",
       "    <tr>\n",
       "      <th>50%</th>\n",
       "      <td>1.0</td>\n",
       "      <td>72.199997</td>\n",
       "      <td>73.800003</td>\n",
       "      <td>78.000000</td>\n",
       "    </tr>\n",
       "    <tr>\n",
       "      <th>75%</th>\n",
       "      <td>1.0</td>\n",
       "      <td>73.300003</td>\n",
       "      <td>74.900002</td>\n",
       "      <td>82.000000</td>\n",
       "    </tr>\n",
       "    <tr>\n",
       "      <th>max</th>\n",
       "      <td>1.0</td>\n",
       "      <td>77.800003</td>\n",
       "      <td>77.800003</td>\n",
       "      <td>294.000000</td>\n",
       "    </tr>\n",
       "  </tbody>\n",
       "</table>\n",
       "</div>"
      ],
      "text/plain": [
       "       RoomOccupied     SupplyAir  ZoneTemperature  AirflowFeedback\n",
       "count       25330.0  25330.000000     25330.000000     25330.000000\n",
       "mean            1.0     71.928381        73.956816        80.868693\n",
       "std             0.0      7.626211         1.161022        25.631663\n",
       "min             1.0      0.000000        71.199997         0.000000\n",
       "25%             1.0     71.699997        73.099998        76.000000\n",
       "50%             1.0     72.199997        73.800003        78.000000\n",
       "75%             1.0     73.300003        74.900002        82.000000\n",
       "max             1.0     77.800003        77.800003       294.000000"
      ]
     },
     "execution_count": 8,
     "metadata": {},
     "output_type": "execute_result"
    }
   ],
   "source": [
    "thermafuser_df['RoomOccupied'] = thermafuser_df['RoomOccupied'].replace({True: 1, False: 0})\n",
    "thermafuser_df = thermafuser_df.drop(['OccupiedCoolingSetpoint', 'OccupiedHeatingSetpoint', 'TerminalLoad'], axis=1)\n",
    "thermafuser_df.describe()"
   ]
  },
  {
   "cell_type": "code",
   "execution_count": 9,
   "id": "collect-involvement",
   "metadata": {},
   "outputs": [
    {
     "data": {
      "text/html": [
       "<div>\n",
       "<style scoped>\n",
       "    .dataframe tbody tr th:only-of-type {\n",
       "        vertical-align: middle;\n",
       "    }\n",
       "\n",
       "    .dataframe tbody tr th {\n",
       "        vertical-align: top;\n",
       "    }\n",
       "\n",
       "    .dataframe thead th {\n",
       "        text-align: right;\n",
       "    }\n",
       "</style>\n",
       "<table border=\"1\" class=\"dataframe\">\n",
       "  <thead>\n",
       "    <tr style=\"text-align: right;\">\n",
       "      <th></th>\n",
       "      <th>SupplyAir</th>\n",
       "      <th>ZoneTemperature</th>\n",
       "      <th>AirflowFeedback</th>\n",
       "    </tr>\n",
       "  </thead>\n",
       "  <tbody>\n",
       "    <tr>\n",
       "      <th>count</th>\n",
       "      <td>25330.000000</td>\n",
       "      <td>25330.000000</td>\n",
       "      <td>25330.000000</td>\n",
       "    </tr>\n",
       "    <tr>\n",
       "      <th>mean</th>\n",
       "      <td>71.928381</td>\n",
       "      <td>73.956816</td>\n",
       "      <td>80.868693</td>\n",
       "    </tr>\n",
       "    <tr>\n",
       "      <th>std</th>\n",
       "      <td>7.626211</td>\n",
       "      <td>1.161022</td>\n",
       "      <td>25.631663</td>\n",
       "    </tr>\n",
       "    <tr>\n",
       "      <th>min</th>\n",
       "      <td>0.000000</td>\n",
       "      <td>71.199997</td>\n",
       "      <td>0.000000</td>\n",
       "    </tr>\n",
       "    <tr>\n",
       "      <th>25%</th>\n",
       "      <td>71.699997</td>\n",
       "      <td>73.099998</td>\n",
       "      <td>76.000000</td>\n",
       "    </tr>\n",
       "    <tr>\n",
       "      <th>50%</th>\n",
       "      <td>72.199997</td>\n",
       "      <td>73.800003</td>\n",
       "      <td>78.000000</td>\n",
       "    </tr>\n",
       "    <tr>\n",
       "      <th>75%</th>\n",
       "      <td>73.300003</td>\n",
       "      <td>74.900002</td>\n",
       "      <td>82.000000</td>\n",
       "    </tr>\n",
       "    <tr>\n",
       "      <th>max</th>\n",
       "      <td>77.800003</td>\n",
       "      <td>77.800003</td>\n",
       "      <td>294.000000</td>\n",
       "    </tr>\n",
       "  </tbody>\n",
       "</table>\n",
       "</div>"
      ],
      "text/plain": [
       "          SupplyAir  ZoneTemperature  AirflowFeedback\n",
       "count  25330.000000     25330.000000     25330.000000\n",
       "mean      71.928381        73.956816        80.868693\n",
       "std        7.626211         1.161022        25.631663\n",
       "min        0.000000        71.199997         0.000000\n",
       "25%       71.699997        73.099998        76.000000\n",
       "50%       72.199997        73.800003        78.000000\n",
       "75%       73.300003        74.900002        82.000000\n",
       "max       77.800003        77.800003       294.000000"
      ]
     },
     "execution_count": 9,
     "metadata": {},
     "output_type": "execute_result"
    }
   ],
   "source": [
    "thermafuser_df = thermafuser_df.drop('RoomOccupied', axis=1)\n",
    "thermafuser_df.describe()"
   ]
  },
  {
   "cell_type": "code",
   "execution_count": 10,
   "id": "associate-lightweight",
   "metadata": {},
   "outputs": [
    {
     "name": "stdout",
     "output_type": "stream",
     "text": [
      "<class 'pandas.core.frame.DataFrame'>\n",
      "RangeIndex: 25330 entries, 0 to 25329\n",
      "Data columns (total 4 columns):\n",
      " #   Column           Non-Null Count  Dtype         \n",
      "---  ------           --------------  -----         \n",
      " 0   SupplyAir        25330 non-null  float64       \n",
      " 1   Timestamp        25330 non-null  datetime64[ns]\n",
      " 2   ZoneTemperature  25330 non-null  float64       \n",
      " 3   AirflowFeedback  25330 non-null  float64       \n",
      "dtypes: datetime64[ns](1), float64(3)\n",
      "memory usage: 791.7 KB\n"
     ]
    }
   ],
   "source": [
    "thermafuser_df.info(show_counts=True)"
   ]
  },
  {
   "cell_type": "code",
   "execution_count": 11,
   "id": "operating-contract",
   "metadata": {},
   "outputs": [
    {
     "data": {
      "text/plain": [
       "<seaborn.axisgrid.PairGrid at 0x7f9d145c6400>"
      ]
     },
     "execution_count": 11,
     "metadata": {},
     "output_type": "execute_result"
    },
    {
     "data": {
      "image/png": "[encoded data removed]",
      "text/plain": [
       "<Figure size 540x540 with 12 Axes>"
      ]
     },
     "metadata": {
      "needs_background": "light"
     },
     "output_type": "display_data"
    }
   ],
   "source": [
    "sampled_therma_df = thermafuser_df.sample(frac=1/10, replace=True)\n",
    "#sampled_therma_df.shape\n",
    "sns.pairplot(sampled_therma_df)"
   ]
  },
  {
   "cell_type": "code",
   "execution_count": 12,
   "id": "opening-conference",
   "metadata": {},
   "outputs": [
    {
     "data": {
      "text/html": [
       "<div>\n",
       "<style scoped>\n",
       "    .dataframe tbody tr th:only-of-type {\n",
       "        vertical-align: middle;\n",
       "    }\n",
       "\n",
       "    .dataframe tbody tr th {\n",
       "        vertical-align: top;\n",
       "    }\n",
       "\n",
       "    .dataframe thead th {\n",
       "        text-align: right;\n",
       "    }\n",
       "</style>\n",
       "<table border=\"1\" class=\"dataframe\">\n",
       "  <thead>\n",
       "    <tr style=\"text-align: right;\">\n",
       "      <th></th>\n",
       "      <th>SupplyAir</th>\n",
       "      <th>Timestamp</th>\n",
       "      <th>ZoneTemperature</th>\n",
       "      <th>AirflowFeedback</th>\n",
       "      <th>Day quarter</th>\n",
       "      <th>0-5</th>\n",
       "      <th>6-11</th>\n",
       "      <th>12-17</th>\n",
       "      <th>18-23</th>\n",
       "    </tr>\n",
       "  </thead>\n",
       "  <tbody>\n",
       "    <tr>\n",
       "      <th>0</th>\n",
       "      <td>75.199997</td>\n",
       "      <td>2018-07-11 14:15:00</td>\n",
       "      <td>74.699997</td>\n",
       "      <td>63.0</td>\n",
       "      <td>2</td>\n",
       "      <td>0</td>\n",
       "      <td>0</td>\n",
       "      <td>1</td>\n",
       "      <td>0</td>\n",
       "    </tr>\n",
       "    <tr>\n",
       "      <th>1</th>\n",
       "      <td>76.099998</td>\n",
       "      <td>2018-07-11 14:20:01</td>\n",
       "      <td>74.300003</td>\n",
       "      <td>61.0</td>\n",
       "      <td>2</td>\n",
       "      <td>0</td>\n",
       "      <td>0</td>\n",
       "      <td>1</td>\n",
       "      <td>0</td>\n",
       "    </tr>\n",
       "    <tr>\n",
       "      <th>2</th>\n",
       "      <td>75.900002</td>\n",
       "      <td>2018-07-11 14:25:01</td>\n",
       "      <td>74.900002</td>\n",
       "      <td>59.0</td>\n",
       "      <td>2</td>\n",
       "      <td>0</td>\n",
       "      <td>0</td>\n",
       "      <td>1</td>\n",
       "      <td>0</td>\n",
       "    </tr>\n",
       "    <tr>\n",
       "      <th>3</th>\n",
       "      <td>75.900002</td>\n",
       "      <td>2018-07-11 14:30:02</td>\n",
       "      <td>75.099998</td>\n",
       "      <td>76.0</td>\n",
       "      <td>2</td>\n",
       "      <td>0</td>\n",
       "      <td>0</td>\n",
       "      <td>1</td>\n",
       "      <td>0</td>\n",
       "    </tr>\n",
       "    <tr>\n",
       "      <th>4</th>\n",
       "      <td>75.699997</td>\n",
       "      <td>2018-07-11 14:35:04</td>\n",
       "      <td>75.599998</td>\n",
       "      <td>150.0</td>\n",
       "      <td>2</td>\n",
       "      <td>0</td>\n",
       "      <td>0</td>\n",
       "      <td>1</td>\n",
       "      <td>0</td>\n",
       "    </tr>\n",
       "  </tbody>\n",
       "</table>\n",
       "</div>"
      ],
      "text/plain": [
       "   SupplyAir           Timestamp  ZoneTemperature  AirflowFeedback  \\\n",
       "0  75.199997 2018-07-11 14:15:00        74.699997             63.0   \n",
       "1  76.099998 2018-07-11 14:20:01        74.300003             61.0   \n",
       "2  75.900002 2018-07-11 14:25:01        74.900002             59.0   \n",
       "3  75.900002 2018-07-11 14:30:02        75.099998             76.0   \n",
       "4  75.699997 2018-07-11 14:35:04        75.599998            150.0   \n",
       "\n",
       "   Day quarter  0-5  6-11  12-17  18-23  \n",
       "0            2    0     0      1      0  \n",
       "1            2    0     0      1      0  \n",
       "2            2    0     0      1      0  \n",
       "3            2    0     0      1      0  \n",
       "4            2    0     0      1      0  "
      ]
     },
     "execution_count": 12,
     "metadata": {},
     "output_type": "execute_result"
    }
   ],
   "source": [
    "day_quarters = {0:'0-5', 1:'6-11', 2:'12-17', 3:'18-23'}\n",
    "thermafuser_df['Day quarter'] = thermafuser_df['Timestamp'].map(lambda x: x.hour//6)\n",
    "dummies = pd.get_dummies(thermafuser_df['Day quarter'])\n",
    "thermafuser_df = pd.concat([thermafuser_df, dummies], axis=1)\n",
    "thermafuser_df.rename(columns=day_quarters, inplace=True)\n",
    "thermafuser_df.head()"
   ]
  },
  {
   "cell_type": "code",
   "execution_count": 13,
   "id": "synthetic-spouse",
   "metadata": {},
   "outputs": [
    {
     "data": {
      "image/png": "[encoded data removed]",
      "text/plain": [
       "<Figure size 432x288 with 1 Axes>"
      ]
     },
     "metadata": {
      "needs_background": "light"
     },
     "output_type": "display_data"
    }
   ],
   "source": [
    "ax_supplyAir = sns.barplot(x='Day quarter', y='SupplyAir', data=thermafuser_df)\n",
    "xticks_labels = [day_quarters[x] for x in ax_supplyAir.get_xticks()]\n",
    "_ = ax_supplyAir.set_xticklabels(xticks_labels)"
   ]
  },
  {
   "cell_type": "code",
   "execution_count": 14,
   "id": "bizarre-calcium",
   "metadata": {},
   "outputs": [
    {
     "data": {
      "image/png": "[encoded data removed]",
      "text/plain": [
       "<Figure size 432x288 with 1 Axes>"
      ]
     },
     "metadata": {
      "needs_background": "light"
     },
     "output_type": "display_data"
    }
   ],
   "source": [
    "ax_zoneTemp = sns.barplot(x='Day quarter', y='ZoneTemperature', data=thermafuser_df)\n",
    "xticks_labels = [day_quarters[x] for x in ax_zoneTemp.get_xticks()]\n",
    "_ = ax_zoneTemp.set_xticklabels(xticks_labels)"
   ]
  },
  {
   "cell_type": "code",
   "execution_count": 15,
   "id": "psychological-winter",
   "metadata": {},
   "outputs": [
    {
     "data": {
      "image/png": "[encoded data removed]",
      "text/plain": [
       "<Figure size 432x288 with 1 Axes>"
      ]
     },
     "metadata": {
      "needs_background": "light"
     },
     "output_type": "display_data"
    }
   ],
   "source": [
    "ax_airflowFdbck = sns.barplot(x='Day quarter', y='AirflowFeedback', data=thermafuser_df)\n",
    "xticks_labels = [day_quarters[x] for x in ax_airflowFdbck.get_xticks()]\n",
    "_ = ax_airflowFdbck.set_xticklabels(xticks_labels)"
   ]
  },
  {
   "cell_type": "code",
   "execution_count": 16,
   "id": "provincial-garlic",
   "metadata": {},
   "outputs": [
    {
     "data": {
      "image/png": "[encoded data removed]",
      "text/plain": [
       "<Figure size 432x288 with 1 Axes>"
      ]
     },
     "metadata": {
      "needs_background": "light"
     },
     "output_type": "display_data"
    }
   ],
   "source": [
    "ax_supplyAir = sns.histplot(data=thermafuser_df, x='SupplyAir')"
   ]
  },
  {
   "cell_type": "code",
   "execution_count": 17,
   "id": "nasty-threat",
   "metadata": {},
   "outputs": [
    {
     "data": {
      "image/png": "[encoded data removed]",
      "text/plain": [
       "<Figure size 432x288 with 1 Axes>"
      ]
     },
     "metadata": {
      "needs_background": "light"
     },
     "output_type": "display_data"
    }
   ],
   "source": [
    "ax_zoneTemperature = sns.histplot(data=thermafuser_df, x='ZoneTemperature')"
   ]
  },
  {
   "cell_type": "code",
   "execution_count": 18,
   "id": "signed-exclusive",
   "metadata": {},
   "outputs": [
    {
     "data": {
      "image/png": "[encoded data removed]",
      "text/plain": [
       "<Figure size 432x288 with 1 Axes>"
      ]
     },
     "metadata": {
      "needs_background": "light"
     },
     "output_type": "display_data"
    }
   ],
   "source": [
    "ax_airflowFdbck = sns.histplot(data=thermafuser_df, x='AirflowFeedback')"
   ]
  },
  {
   "cell_type": "code",
   "execution_count": 19,
   "id": "fantastic-reaction",
   "metadata": {},
   "outputs": [
    {
     "data": {
      "text/html": [
       "<div>\n",
       "<style scoped>\n",
       "    .dataframe tbody tr th:only-of-type {\n",
       "        vertical-align: middle;\n",
       "    }\n",
       "\n",
       "    .dataframe tbody tr th {\n",
       "        vertical-align: top;\n",
       "    }\n",
       "\n",
       "    .dataframe thead th {\n",
       "        text-align: right;\n",
       "    }\n",
       "</style>\n",
       "<table border=\"1\" class=\"dataframe\">\n",
       "  <thead>\n",
       "    <tr style=\"text-align: right;\">\n",
       "      <th></th>\n",
       "      <th>SupplyAir</th>\n",
       "      <th>ZoneTemperature</th>\n",
       "      <th>AirflowFeedback</th>\n",
       "      <th>Day quarter</th>\n",
       "      <th>0-5</th>\n",
       "      <th>6-11</th>\n",
       "      <th>12-17</th>\n",
       "      <th>18-23</th>\n",
       "    </tr>\n",
       "  </thead>\n",
       "  <tbody>\n",
       "    <tr>\n",
       "      <th>count</th>\n",
       "      <td>25330.000000</td>\n",
       "      <td>25330.000000</td>\n",
       "      <td>25330.000000</td>\n",
       "      <td>25330.000000</td>\n",
       "      <td>25330.000000</td>\n",
       "      <td>25330.00000</td>\n",
       "      <td>25330.000000</td>\n",
       "      <td>25330.000000</td>\n",
       "    </tr>\n",
       "    <tr>\n",
       "      <th>mean</th>\n",
       "      <td>71.928381</td>\n",
       "      <td>73.956816</td>\n",
       "      <td>80.868693</td>\n",
       "      <td>1.508962</td>\n",
       "      <td>0.247256</td>\n",
       "      <td>0.24769</td>\n",
       "      <td>0.253889</td>\n",
       "      <td>0.251165</td>\n",
       "    </tr>\n",
       "    <tr>\n",
       "      <th>std</th>\n",
       "      <td>7.626211</td>\n",
       "      <td>1.161022</td>\n",
       "      <td>25.631663</td>\n",
       "      <td>1.116607</td>\n",
       "      <td>0.431425</td>\n",
       "      <td>0.43168</td>\n",
       "      <td>0.435243</td>\n",
       "      <td>0.433692</td>\n",
       "    </tr>\n",
       "    <tr>\n",
       "      <th>min</th>\n",
       "      <td>0.000000</td>\n",
       "      <td>71.199997</td>\n",
       "      <td>0.000000</td>\n",
       "      <td>0.000000</td>\n",
       "      <td>0.000000</td>\n",
       "      <td>0.00000</td>\n",
       "      <td>0.000000</td>\n",
       "      <td>0.000000</td>\n",
       "    </tr>\n",
       "    <tr>\n",
       "      <th>25%</th>\n",
       "      <td>71.699997</td>\n",
       "      <td>73.099998</td>\n",
       "      <td>76.000000</td>\n",
       "      <td>1.000000</td>\n",
       "      <td>0.000000</td>\n",
       "      <td>0.00000</td>\n",
       "      <td>0.000000</td>\n",
       "      <td>0.000000</td>\n",
       "    </tr>\n",
       "    <tr>\n",
       "      <th>50%</th>\n",
       "      <td>72.199997</td>\n",
       "      <td>73.800003</td>\n",
       "      <td>78.000000</td>\n",
       "      <td>2.000000</td>\n",
       "      <td>0.000000</td>\n",
       "      <td>0.00000</td>\n",
       "      <td>0.000000</td>\n",
       "      <td>0.000000</td>\n",
       "    </tr>\n",
       "    <tr>\n",
       "      <th>75%</th>\n",
       "      <td>73.300003</td>\n",
       "      <td>74.900002</td>\n",
       "      <td>82.000000</td>\n",
       "      <td>3.000000</td>\n",
       "      <td>0.000000</td>\n",
       "      <td>0.00000</td>\n",
       "      <td>1.000000</td>\n",
       "      <td>1.000000</td>\n",
       "    </tr>\n",
       "    <tr>\n",
       "      <th>max</th>\n",
       "      <td>77.800003</td>\n",
       "      <td>77.800003</td>\n",
       "      <td>294.000000</td>\n",
       "      <td>3.000000</td>\n",
       "      <td>1.000000</td>\n",
       "      <td>1.00000</td>\n",
       "      <td>1.000000</td>\n",
       "      <td>1.000000</td>\n",
       "    </tr>\n",
       "  </tbody>\n",
       "</table>\n",
       "</div>"
      ],
      "text/plain": [
       "          SupplyAir  ZoneTemperature  AirflowFeedback   Day quarter  \\\n",
       "count  25330.000000     25330.000000     25330.000000  25330.000000   \n",
       "mean      71.928381        73.956816        80.868693      1.508962   \n",
       "std        7.626211         1.161022        25.631663      1.116607   \n",
       "min        0.000000        71.199997         0.000000      0.000000   \n",
       "25%       71.699997        73.099998        76.000000      1.000000   \n",
       "50%       72.199997        73.800003        78.000000      2.000000   \n",
       "75%       73.300003        74.900002        82.000000      3.000000   \n",
       "max       77.800003        77.800003       294.000000      3.000000   \n",
       "\n",
       "                0-5         6-11         12-17         18-23  \n",
       "count  25330.000000  25330.00000  25330.000000  25330.000000  \n",
       "mean       0.247256      0.24769      0.253889      0.251165  \n",
       "std        0.431425      0.43168      0.435243      0.433692  \n",
       "min        0.000000      0.00000      0.000000      0.000000  \n",
       "25%        0.000000      0.00000      0.000000      0.000000  \n",
       "50%        0.000000      0.00000      0.000000      0.000000  \n",
       "75%        0.000000      0.00000      1.000000      1.000000  \n",
       "max        1.000000      1.00000      1.000000      1.000000  "
      ]
     },
     "execution_count": 19,
     "metadata": {},
     "output_type": "execute_result"
    }
   ],
   "source": [
    "thermafuser_df.describe()"
   ]
  },
  {
   "cell_type": "code",
   "execution_count": 20,
   "id": "hidden-institution",
   "metadata": {},
   "outputs": [
    {
     "name": "stdout",
     "output_type": "stream",
     "text": [
      "First quarter: (6263, 1)\n",
      "Second quarter: (6274, 1)\n",
      "Third quarter: (6431, 1)\n",
      "Fourth quarter: (6362, 1)\n"
     ]
    }
   ],
   "source": [
    "print('First quarter: ' + str(thermafuser_df.loc[thermafuser_df['0-5'] == 1, ['0-5']].shape))\n",
    "print('Second quarter: ' + str(thermafuser_df.loc[thermafuser_df['6-11'] == 1, ['0-5']].shape))\n",
    "print('Third quarter: ' + str(thermafuser_df.loc[thermafuser_df['12-17'] == 1, ['0-5']].shape))\n",
    "print('Fourth quarter: ' + str(thermafuser_df.loc[thermafuser_df['18-23'] == 1, ['0-5']].shape))"
   ]
  },
  {
   "cell_type": "code",
   "execution_count": null,
   "id": "streaming-scientist",
   "metadata": {},
   "outputs": [],
   "source": []
  },
  {
   "cell_type": "code",
   "execution_count": null,
   "id": "fourth-ground",
   "metadata": {},
   "outputs": [],
   "source": [
    "thermafuser_df.drop(0, axis=0, inplace=True)\n",
    "thermafuser_df.drop('Day quarter', axis=1, inplace=True)\n",
    "thermafuser_df.drop('Timestamp', axis=1, inplace=True)"
   ]
  },
  {
   "cell_type": "code",
   "execution_count": null,
   "id": "according-approach",
   "metadata": {},
   "outputs": [],
   "source": [
    "thermafuser_df.head()"
   ]
  },
  {
   "cell_type": "code",
   "execution_count": null,
   "id": "stylish-compression",
   "metadata": {},
   "outputs": [],
   "source": [
    "X_train, X_test = train_test_split(thermafuser_df, test_size=0.1)\n",
    "X_train, X_crossVal = train_test_split(X_train, test_size=0.2)\n",
    "\n",
    "X_train.reset_index(inplace=True, drop=True)\n",
    "X_crossVal.reset_index(inplace=True, drop=True)\n",
    "X_test.reset_index(inplace=True, drop=True)\n",
    "\n",
    "print(X_train.shape)\n",
    "print(X_crossVal.shape)\n",
    "print(X_test.shape)\n",
    "\n",
    "X_crossVal.head()"
   ]
  },
  {
   "cell_type": "code",
   "execution_count": null,
   "id": "continental-october",
   "metadata": {},
   "outputs": [],
   "source": [
    "clf = IsolationForest(n_estimators=100, max_samples='auto', contamination=float(.05), max_features=1.0,\n",
    "                     bootstrap=False, n_jobs=1, verbose=1)\n",
    "clf.fit(X_train)"
   ]
  },
  {
   "cell_type": "code",
   "execution_count": null,
   "id": "stretch-hearing",
   "metadata": {},
   "outputs": [],
   "source": [
    "pred = clf.predict(X_crossVal[['SupplyAir', 'ZoneTemperature', 'AirflowFeedback', '0-5', '6-11', '12-17', '18-23']])\n",
    "X_crossVal['anomaly'] = pred\n",
    "outliers = X_crossVal.loc[X_crossVal['anomaly'] == -1]\n",
    "outlier_index=list(outliers.index)\n",
    "print(X_crossVal['anomaly'].value_counts())"
   ]
  },
  {
   "cell_type": "code",
   "execution_count": null,
   "id": "martial-credits",
   "metadata": {},
   "outputs": [],
   "source": [
    "X_crossVal.head()"
   ]
  },
  {
   "cell_type": "code",
   "execution_count": null,
   "id": "drawn-intake",
   "metadata": {},
   "outputs": [],
   "source": [
    "scaler = StandardScaler()\n",
    "X_scaled = scaler.fit_transform(X_crossVal[['SupplyAir', 'ZoneTemperature', 'AirflowFeedback']])"
   ]
  },
  {
   "cell_type": "code",
   "execution_count": null,
   "id": "amino-joseph",
   "metadata": {},
   "outputs": [],
   "source": [
    "fig = plt.figure()\n",
    "ax = fig.add_subplot(111, projection='3d')\n",
    "ax.set_zlabel(\"x_composite_3\")\n",
    "# Plot the compressed data points\n",
    "ax.scatter(X_scaled[:, 0], X_scaled[:, 1], zs=X_scaled[:, 2], s=4, lw=1, label=\"inliers\",c=\"green\")\n",
    "# Plot x's for the ground truth outliers\n",
    "ax.scatter(X_scaled[outlier_index,0],X_scaled[outlier_index,1], X_scaled[outlier_index,2],\n",
    "           lw=2, s=60, marker=\"x\", c=\"red\", label=\"outliers\")\n",
    "ax.legend()\n",
    "plt.show()"
   ]
  },
  {
   "cell_type": "code",
   "execution_count": null,
   "id": "finished-ceiling",
   "metadata": {},
   "outputs": [],
   "source": [
    "pca = PCA(2)\n",
    "pca.fit(X_crossVal[['SupplyAir', 'ZoneTemperature', 'AirflowFeedback']])\n",
    "res=pd.DataFrame(pca.transform(X_crossVal[['SupplyAir', 'ZoneTemperature', 'AirflowFeedback']]))\n",
    "Z = np.array(res)\n",
    "plt.title(\"IsolationForest\")\n",
    "plt.contourf( Z, cmap=plt.cm.Blues_r)\n",
    "b1 = plt.scatter(res[0], res[1], c='green',\n",
    "                 s=20,label=\"normal points\")\n",
    "b1 =plt.scatter(res.iloc[outlier_index,0],res.iloc[outlier_index,1], c='green',s=20,  edgecolor=\"red\",label=\"predicted outliers\")\n",
    "plt.legend(loc=\"upper right\")\n",
    "plt.show()"
   ]
  },
  {
   "cell_type": "code",
   "execution_count": null,
   "id": "alternative-satellite",
   "metadata": {},
   "outputs": [],
   "source": []
  }
 ],
 "metadata": {
  "kernelspec": {
   "display_name": "Python 3",
   "language": "python",
   "name": "python3"
  },
  "language_info": {
   "codemirror_mode": {
    "name": "ipython",
    "version": 3
   },
   "file_extension": ".py",
   "mimetype": "text/x-python",
   "name": "python",
   "nbconvert_exporter": "python",
   "pygments_lexer": "ipython3",
   "version": "3.8.5"
  }
 },
 "nbformat": 4,
 "nbformat_minor": 5
}
